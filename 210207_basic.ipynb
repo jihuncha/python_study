{
 "cells": [
  {
   "cell_type": "code",
   "execution_count": 4,
   "metadata": {},
   "outputs": [
    {
     "name": "stdout",
     "output_type": "stream",
     "text": [
      "12.23\n",
      "12.230000\n"
     ]
    }
   ],
   "source": [
    "#자리수 표현 -> %\n",
    "\n",
    "test = input()\n",
    "print(\"%0.6f\" % float(test))"
   ]
  },
  {
   "cell_type": "code",
   "execution_count": 5,
   "metadata": {},
   "outputs": [
    {
     "name": "stdout",
     "output_type": "stream",
     "text": [
      "10.23\n",
      "10.230000\n"
     ]
    }
   ],
   "source": [
    "#자리수 표현 -> %\n",
    "\n",
    "test = input()\n",
    "print(\"%0.6f\" % float(test))"
   ]
  },
  {
   "cell_type": "code",
   "execution_count": 6,
   "metadata": {},
   "outputs": [
    {
     "name": "stdout",
     "output_type": "stream",
     "text": [
      "12.2\n",
      "12.20\n"
     ]
    }
   ],
   "source": [
    "b = float(input())\n",
    "print(\"%.2f\" % b)"
   ]
  },
  {
   "cell_type": "code",
   "execution_count": 7,
   "metadata": {},
   "outputs": [
    {
     "name": "stdout",
     "output_type": "stream",
     "text": [
      "1 2\n",
      "1 2\n"
     ]
    }
   ],
   "source": [
    "#input()\n",
    "\n",
    "a,b = input().split()\n",
    "print(a, b)"
   ]
  },
  {
   "cell_type": "code",
   "execution_count": 20,
   "metadata": {},
   "outputs": [
    {
     "name": "stdout",
     "output_type": "stream",
     "text": [
      "0b111100\n",
      "0o74\n",
      "0x3c\n",
      "===========================\n",
      "111100\n",
      "74\n",
      "3c\n",
      "===========================\n",
      "60\n",
      "60\n",
      "60\n"
     ]
    }
   ],
   "source": [
    "#파이선 진수 변환 \n",
    "#내장함수를 이용한다.\n",
    "\n",
    "value = 60\n",
    "\n",
    "#2, 8, 16 진수 표현\n",
    "print(bin(value))\n",
    "print(oct(value))\n",
    "print(hex(value))\n",
    "\n",
    "print(\"===========================\")\n",
    "#.format 사용\n",
    "\n",
    "b = format(value, 'b')\n",
    "o = format(value, 'o')\n",
    "h = format(value, 'x')\n",
    "\n",
    "print(b)\n",
    "print(o)\n",
    "print(h)\n",
    "\n",
    "print(\"===========================\")\n",
    "\n",
    "#다른인자를 10진수로 변환\n",
    "b_result = int('0b111100', 2)\n",
    "o_result = int('0o74', 8)\n",
    "h_result = int('0x3c', 16)\n",
    "\n",
    "print(b_result)\n",
    "print(o_result)\n",
    "print(h_result)\n",
    "\n"
   ]
  },
  {
   "cell_type": "code",
   "execution_count": 22,
   "metadata": {},
   "outputs": [
    {
     "name": "stdout",
     "output_type": "stream",
     "text": [
      "2진수:111100, 8진수:74, 16진수:3c\n",
      "2진수:0b111100, 8진수:0o74, 16진수:0x3c\n"
     ]
    }
   ],
   "source": [
    "# 표현..? 0 이 무엇인가?\n",
    "s = \"2진수:{0:b}, 8진수:{0:o}, 16진수:{0:x}\".format(60)\n",
    "s_test = \"2진수:{0:#b}, 8진수:{0:#o}, 16진수:{0:#x}\".format(60)\n",
    "\n",
    "\n",
    "print(s)\n",
    "\n",
    "print(s_test)"
   ]
  },
  {
   "cell_type": "code",
   "execution_count": 25,
   "metadata": {},
   "outputs": [
    {
     "name": "stdout",
     "output_type": "stream",
     "text": [
      "1 0\n",
      "0\n"
     ]
    }
   ],
   "source": [
    "# 두 개의 참(1) 또는 거짓(0)이 입력될 때,\n",
    "# 모두 참일 때에만 참을 출력하는 프로그램을 작성해보자.\n",
    "\n",
    "a,b = input().split()\n",
    "\n",
    "if int(a) == 1 and int(b) == 1:print(1)\n",
    "else: print(0)"
   ]
  },
  {
   "cell_type": "code",
   "execution_count": 26,
   "metadata": {},
   "outputs": [
    {
     "name": "stdout",
     "output_type": "stream",
     "text": [
      "1 0\n",
      "1\n"
     ]
    }
   ],
   "source": [
    "# 두 개의 참(1) 또는 거짓(0)이 입력될 때,\n",
    "# 하나라도 참이면 참을 출력하는 프로그램을 작성해보자.\n",
    "\n",
    "a,b = input().split()\n",
    "\n",
    "if int(a) == 1 or int(b) == 1:print(1)\n",
    "else: print(0)"
   ]
  },
  {
   "cell_type": "code",
   "execution_count": 30,
   "metadata": {},
   "outputs": [
    {
     "name": "stdout",
     "output_type": "stream",
     "text": [
      "0 1\n",
      "1\n"
     ]
    }
   ],
   "source": [
    "# 두 가지의 참(1) 또는 거짓(0)이 입력될 때,\n",
    "# 참/거짓이 서로 다를 때에만 참을 출력하는 프로그램을 작성해보자.\n",
    "\n",
    "a,b = input().split()\n",
    "\n",
    "if (int(a) == 1 and int(b) == 0) or (int(a) == 0 and int(b) == 1):print(1)\n",
    "else: print(0)\n"
   ]
  },
  {
   "cell_type": "code",
   "execution_count": 31,
   "metadata": {},
   "outputs": [
    {
     "name": "stdout",
     "output_type": "stream",
     "text": [
      "1 1\n",
      "1\n"
     ]
    }
   ],
   "source": [
    "# 두 개의 참(1) 또는 거짓(0)이 입력될 때,\n",
    "# 참/거짓이 서로 같을 때에만 참이 계산되는 프로그램을 작성해보자.\n",
    "\n",
    "a,b = input().split()\n",
    "\n",
    "if (int(a) == 1 and int(b) == 1) or (int(a) == 0 and int(b) == 0):print(1)\n",
    "else: print(0)\n"
   ]
  },
  {
   "cell_type": "code",
   "execution_count": 33,
   "metadata": {},
   "outputs": [
    {
     "name": "stdout",
     "output_type": "stream",
     "text": [
      "1 1\n",
      "0\n"
     ]
    }
   ],
   "source": [
    "# 두 개의 참(1) 또는 거짓(0)이 입력될 때,\n",
    "# 모두 거짓일 때에만 참이 계산되는 프로그램을 작성해보자.\n",
    "\n",
    "\n",
    "a,b = input().split()\n",
    "\n",
    "if int(a) == 0 and int(b) == 0:print(1)\n",
    "else: print(0)"
   ]
  },
  {
   "cell_type": "code",
   "execution_count": 60,
   "metadata": {},
   "outputs": [
    {
     "name": "stdout",
     "output_type": "stream",
     "text": [
      "123\n",
      "-124\n"
     ]
    }
   ],
   "source": [
    "# 입력 된 정수를 비트단위로 참/거짓을 바꾼 후 정수로 출력해보자.\n",
    "# 비트단위(bitwise)연산자 ~ 를 붙이면 된다.(~ : tilde, 틸드라고 읽는다.)\n",
    "\n",
    "# 비트 단위로 1 -> 0, 0 -> 1로 바꾼 후 그 값을 10진수로 출력한다.\n",
    "\n",
    "# 비트바꾸기 -> ~ 하나면된다.\n",
    "\n",
    "data = input()\n",
    "data_result = int(data)\n",
    "b = format(data_result, 'b')\n",
    "# print(b)\n",
    "print(~int(b, 2))\n",
    "\n",
    "# result = ''\n",
    "# for change in b:\n",
    "# #     print(change)\n",
    "# #     print(type(change))\n",
    "#     if change == '1':\n",
    "#         change = '0'\n",
    "#     else:\n",
    "#         change = '1'\n",
    "#     result += str(change)\n",
    "# print(int(result, 2))"
   ]
  },
  {
   "cell_type": "code",
   "execution_count": 70,
   "metadata": {},
   "outputs": [
    {
     "name": "stdout",
     "output_type": "stream",
     "text": [
      "3 5\n"
     ]
    },
    {
     "data": {
      "text/plain": [
       "1"
      ]
     },
     "execution_count": 70,
     "metadata": {},
     "output_type": "execute_result"
    }
   ],
   "source": [
    "# 입력된 정수 두 개를 비트단위로 and 연산한 후 그 결과를 정수로 출력해보자.\n",
    "# 비트단위(bitwise)연산자 &를 사용하면 된다.(and, ampersand, 앰퍼센드라고 읽는다.)\n",
    "\n",
    "# 두 정수를 비트단위(bitwise)로 and 계산을 수행한 결과를 10진수로 출력한다.\n",
    "\n",
    "# >>> bin(0b1101 & 0b1001)    # 비트 AND\n",
    "# '0b1001'\n",
    "# >>> 13 & 9                  # 비트 AND\n",
    "# 9\n",
    "# >>> bin(0b1101 | 0b1001)    # 비트 OR\n",
    "# '0b1101'\n",
    "# >>> 13 | 9                  # 비트 OR\n",
    "# 13\n",
    "# >>> bin(0b1101 ^ 0b1001)    # 비트 XOR\n",
    "# '0b100'\n",
    "# >>> 13 ^ 9                  # 비트 XOR\n",
    "# 4\n",
    "# >>> bin(~0b1101)            # 비트 NOT\n",
    "# '-0b1110'\n",
    "# >>> ~13                     # 비트 NOT\n",
    "# -14\n",
    "\n",
    "a,b = map(int, input().split())\n",
    "# print(a,b)\n",
    "a_bin = bin(a)\n",
    "b_bin = bin(b)\n",
    "# print(a_bin)\n",
    "\n",
    "print(int(bin(int(a_bin, 2) & int(b_bin,2)) ,2))\n",
    "\n",
    "\n",
    "\n"
   ]
  },
  {
   "cell_type": "code",
   "execution_count": 71,
   "metadata": {},
   "outputs": [
    {
     "name": "stdout",
     "output_type": "stream",
     "text": [
      "3 5\n",
      "7\n"
     ]
    }
   ],
   "source": [
    "# 입력된 정수 두 개를 비트단위로 or 연산한 후 그 결과를 정수로 출력해보자.\n",
    "# 비트단위(bitwise) 연산자 |(or, vertical bar, 버티컬바)를 사용하면 된다.\n",
    "\n",
    "\n",
    "# 두 정수를 비트단위(bitwise)로 or 계산을 수행한 결과를 10진수로 출력한다.\n",
    "\n",
    "\n",
    "a,b = map(int, input().split())\n",
    "# print(a,b)\n",
    "a_bin = bin(a)\n",
    "b_bin = bin(b)\n",
    "# print(a_bin)\n",
    "\n",
    "print(int(bin(int(a_bin, 2) | int(b_bin,2)) ,2))"
   ]
  },
  {
   "cell_type": "code",
   "execution_count": 72,
   "metadata": {},
   "outputs": [
    {
     "name": "stdout",
     "output_type": "stream",
     "text": [
      "3 5\n",
      "6\n"
     ]
    }
   ],
   "source": [
    "# 입력된 정수 두 개를 비트단위로 xor 연산한 후 그 결과를 정수로 출력해보자.\n",
    "# 비트단위(bitwise) 연산자 ^(xor, circumflex/caret, 서컴플렉스/카릿)를 사용하면 된다.\n",
    "\n",
    "# 두 정수를 비트단위(bitwise)로 xor 계산을 수행한 결과를 10진수로 출력한다.\n",
    "\n",
    "a,b = map(int, input().split())\n",
    "# print(a,b)\n",
    "a_bin = bin(a)\n",
    "b_bin = bin(b)\n",
    "# print(a_bin)\n",
    "\n",
    "print(int(bin(int(a_bin, 2) ^ int(b_bin,2)) ,2))"
   ]
  },
  {
   "cell_type": "code",
   "execution_count": 74,
   "metadata": {},
   "outputs": [
    {
     "name": "stdout",
     "output_type": "stream",
     "text": [
      "123 456\n",
      "456\n"
     ]
    }
   ],
   "source": [
    "# 입력된 두 정수 a, b 중 큰 값을 출력하는 프로그램을 작성해보자.\n",
    "# 단, 조건문을 사용하지 않고 3항 연산자 ? 를 사용한다.\n",
    "\n",
    "#파이선은 삼항연산자를 and or 로 표기 -> and 는 ? or 은 :  -> 이건 초기버전\n",
    "#하기 버전 사용  -> true if 조건 else false\n",
    "\n",
    "a,b = map(int, input().split())\n",
    "# print(a > b and a or b)\n",
    "print(a if a>b else b) "
   ]
  },
  {
   "cell_type": "code",
   "execution_count": 80,
   "metadata": {},
   "outputs": [
    {
     "name": "stdout",
     "output_type": "stream",
     "text": [
      "2 3 2\n"
     ]
    },
    {
     "data": {
      "text/plain": [
       "3"
      ]
     },
     "execution_count": 80,
     "metadata": {},
     "output_type": "execute_result"
    }
   ],
   "source": [
    "# 입력된 세 정수 a, b, c 중 가장 작은 값을 출력하는 프로그램을 작성해보자.\n",
    "# 단, 조건문을 사용하지 않고 3항 연산자 ? 를 사용한다.\n",
    "\n",
    "a,b,c = map(int, input().split())\n",
    "\n",
    "print(a if (a<b and a<c) else b if (b<a and b<c) else c)\n",
    "\n"
   ]
  },
  {
   "cell_type": "code",
   "execution_count": 82,
   "metadata": {},
   "outputs": [
    {
     "name": "stdout",
     "output_type": "stream",
     "text": [
      "2 4 3\n",
      "2\n",
      "4\n"
     ]
    }
   ],
   "source": [
    "\n",
    "# 세 정수 a, b, c가 입력되었을 때, 짝수만 출력해보자.\n",
    "\n",
    "# 세 정수 a, b, c 가 공백을 두고 입력된다.\n",
    "# 0 ~ +2147483647 범위의 정수들이 입력되며 적어도 1개는 짝수이다.\n",
    "# 짝수만 순서대로 줄을 바꿔 출력한다.\n",
    "\n",
    "data = list(map(int, input().split()))\n",
    "\n",
    "# print(data)\n",
    "\n",
    "for result in data:\n",
    "    if result % 2 == 0:\n",
    "        print(result)\n"
   ]
  },
  {
   "cell_type": "code",
   "execution_count": 84,
   "metadata": {},
   "outputs": [
    {
     "name": "stdout",
     "output_type": "stream",
     "text": [
      "1 2 8\n",
      "odd\n",
      "even\n",
      "even\n"
     ]
    }
   ],
   "source": [
    "# 세 정수 a, b, c가 입력되었을 때, 짝(even)/홀(odd)을 출력해보자.\n",
    "\n",
    "\n",
    "# 입력된 순서대로 짝(even)/홀(odd)을 줄을 바꿔 출력한다.\n",
    "\n",
    "\n",
    "data = list(map(int, input().split()))\n",
    "\n",
    "# print(data)\n",
    "\n",
    "for result in data:\n",
    "    if result % 2 == 0:\n",
    "        print('even')\n",
    "    else:\n",
    "        print('odd')\n",
    "\n"
   ]
  },
  {
   "cell_type": "code",
   "execution_count": null,
   "metadata": {},
   "outputs": [],
   "source": [
    "# 정수 1개가 입력되었을 때, 음(minus)/양(plus)과 짝(even)/홀(odd)을 출력해보자.\n",
    "\n",
    "# 입력된 정수에 대해\n",
    "# 첫 줄에 minus 나 plus 를 출력하고,\n",
    "# 두 번째 줄에 odd 나 even 을 출력한다.\n",
    "\n"
   ]
  }
 ],
 "metadata": {
  "kernelspec": {
   "display_name": "Python 3",
   "language": "python",
   "name": "python3"
  }
 },
 "nbformat": 4,
 "nbformat_minor": 4
}
