{
 "cells": [
  {
   "cell_type": "code",
   "execution_count": 13,
   "id": "round-chuck",
   "metadata": {},
   "outputs": [
    {
     "name": "stdout",
     "output_type": "stream",
     "text": [
      "B\n",
      "B*1=B\n",
      "B*2=16\n",
      "B*3=21\n",
      "B*4=2C\n",
      "B*5=37\n",
      "B*6=42\n",
      "B*7=4D\n",
      "B*8=58\n",
      "B*9=63\n",
      "B*A=6E\n",
      "B*B=79\n",
      "B*C=84\n",
      "B*D=8F\n",
      "B*E=9A\n",
      "B*F=A5\n"
     ]
    }
   ],
   "source": [
    "# 16진수(0, 1, 2, 3, 4, 5, 6, 7, 8, 9, A, B, C, D, E, F)를 배운\n",
    "# 영일(01)이는 16진수끼리 곱하는 16진수 구구단?에 대해서 궁금해졌다.\n",
    "\n",
    "# A, B, C, D, E, F 중 하나가 입력될 때,\n",
    "# 1부터 F까지 곱한 16진수 구구단의 내용을 출력해보자.\n",
    "# (단, A ~ F 까지만 입력된다.)\n",
    "\n",
    "# 입력\n",
    "# 16진수로 한 자리 수가 입력된다.\n",
    "# 단, A ~ F 까지만 입력된다.\n",
    "\n",
    "\n",
    "# 출력\n",
    "# 입력된 16진수에 1~F까지 순서대로 곱한, 16진수 구구단을 줄을 바꿔 출력한다.\n",
    "# 계산 결과도 16진수로 출력해야 한다.\n",
    "\n",
    "\n",
    "# 입력 예시   \n",
    "# B\n",
    "\n",
    "# 출력 예시\n",
    "# B*1=B\n",
    "# B*2=16\n",
    "# B*3=21\n",
    "# B*4=2C\n",
    "# B*5=37\n",
    "# B*6=42\n",
    "# B*7=4D\n",
    "# B*8=58\n",
    "# B*9=63\n",
    "# B*A=6E\n",
    "# B*B=79\n",
    "# B*C=84\n",
    "# B*D=8F\n",
    "# B*E=9A\n",
    "# B*F=A5\n",
    "\n",
    "data = input()\n",
    "# print(int(data, 16))\n",
    "\n",
    "data_integer = int(data, 16)\n",
    "for check in range(1, 16):\n",
    "    print(\"{}*{}={}\".format(format(data_integer, 'x'), format(check, 'x'), format(check * data_integer, 'x')).upper())\n",
    "    \n",
    "    \n",
    "# upper\t주어진 문자열에서 모든 알파벳들을 대문자로 변환시킨다.\n",
    "# capitalize\t주어진 문자열에서 맨 첫 글자를 대문자로 변환시킨다.\n",
    "# title\t주어진 문자열에서 알파벳 외의 문자(숫자, 특수기호, 띄어쓰기 등)로 나누어져 있는 영단어들의 첫 글자를 모두 대문자로 변환시킨다."
   ]
  },
  {
   "cell_type": "code",
   "execution_count": 14,
   "id": "appointed-empty",
   "metadata": {},
   "outputs": [
    {
     "name": "stdout",
     "output_type": "stream",
     "text": [
      "9\n",
      "1 2 X 4 5 X 7 8 X "
     ]
    }
   ],
   "source": [
    "# 3 6 9 게임을 하던 영일이는 3 6 9 게임에서 잦은 실수로 계속해서 벌칙을 받게 되었다.\n",
    "# 3 6 9 게임의 왕이 되기 위한 마스터 프로그램을 작성해 보자.\n",
    "\n",
    "# 10 보다 작은 정수 1개가 입력된다.\n",
    "# (1 ~ 9)\n",
    "\n",
    "\n",
    "# 출력\n",
    "# 1 부터 그 수까지 순서대로 공백을 두고 수를 출력하는데,\n",
    "# 3 또는 6 또는 9인 경우 그 수 대신 영문 대문자 X 를 출력한다.\n",
    "\n",
    "data = int(input())\n",
    "\n",
    "for result in range(1, data + 1):\n",
    "    if result % 3 == 0:\n",
    "        print('X', end=' ')\n",
    "    else:\n",
    "        print(result, end=' ')"
   ]
  },
  {
   "cell_type": "code",
   "execution_count": 17,
   "id": "protective-characterization",
   "metadata": {},
   "outputs": [
    {
     "name": "stdout",
     "output_type": "stream",
     "text": [
      "128 128 128\n",
      "128 128 128\n"
     ]
    }
   ],
   "source": [
    "# 빨강(red), 초록(green), 파랑(blue) 빛을 섞어\n",
    "# 여러 가지 빛의 색을 만들어 내려고 한다.\n",
    "\n",
    "# 빨강(r), 초록(g), 파랑(b) 각각의 빛의 개수가 주어질 때,\n",
    "# (빛의 강약에 따라 0 ~ n-1 까지 n가지의 빛 색깔을 만들 수 있다.)\n",
    "\n",
    "# 주어진 rgb 빛들을 다르게 섞어 만들 수 있는 모든 경우의 조합(r g b)과\n",
    "# 총 가짓 수를 계산해보자.\n",
    "\n",
    "# 입력\n",
    "# 빨녹파(r, g, b) 각 빛의 강약에 따른 가짓수(0 ~ 128))가 공백을 사이에 두고 입력된다.\n",
    "# 예를 들어, 3 3 3 은 각 색깔 빛에 대해서 그 강약에 따라 0~2까지 3가지의 색이 있음을 의미한다.\n",
    "\n",
    "\n",
    "# 출력\n",
    "# 만들 수 있는 rgb 색의 정보를 오름차순(계단을 올라가는 순, 12345... abcde..., 가나다라마...)으로\n",
    "# 줄을 바꿔 모두 출력하고, 마지막에 그 개수를 출력한다.\n",
    "\n",
    "# 입력 예시   \n",
    "# 2 2 2\n",
    "\n",
    "# 출력 예시\n",
    "# 0 0 0\n",
    "# 0 0 1\n",
    "# 0 1 0\n",
    "# 0 1 1\n",
    "# 1 0 0\n",
    "# 1 0 1\n",
    "# 1 1 0\n",
    "# 1 1 1\n",
    "# 8\n",
    "\n",
    "r,g,b = map(int, input().split())\n",
    "# print(r,g,b)\n",
    "\n"
   ]
  },
  {
   "cell_type": "code",
   "execution_count": null,
   "id": "medical-socket",
   "metadata": {},
   "outputs": [],
   "source": []
  }
 ],
 "metadata": {
  "kernelspec": {
   "display_name": "Python 3",
   "language": "python",
   "name": "python3"
  },
  "language_info": {
   "codemirror_mode": {
    "name": "ipython",
    "version": 3
   },
   "file_extension": ".py",
   "mimetype": "text/x-python",
   "name": "python",
   "nbconvert_exporter": "python",
   "pygments_lexer": "ipython3",
   "version": "3.8.2"
  }
 },
 "nbformat": 4,
 "nbformat_minor": 5
}
