{
 "cells": [
  {
   "cell_type": "code",
   "execution_count": 7,
   "metadata": {},
   "outputs": [
    {
     "name": "stdout",
     "output_type": "stream",
     "text": [
      "0.8999999999999999\n",
      "123.46\n",
      "0.9\n"
     ]
    }
   ],
   "source": [
    "#실수값을 제대로 사용하기 위해서는 round사용 필수\n",
    "a = 0.3 + 0.6\n",
    "print(a)\n",
    "\n",
    "#round()\n",
    "#1. 실수형 데이터 2.반올림하고자하는 위치 -1\n",
    "print(round(123.456, 2))\n",
    "\n",
    "#5번째부터 반올림하는게 일반적\n",
    "print(round(a, 4))"
   ]
  },
  {
   "cell_type": "code",
   "execution_count": 16,
   "metadata": {},
   "outputs": [
    {
     "name": "stdout",
     "output_type": "stream",
     "text": [
      "[1, 3, 5, 7, 9, 11, 13, 15, 17, 19]\n",
      "[1, 3, 5, 7, 9, 11, 13, 15, 17, 19]\n",
      "[1, 4, 9, 16, 25, 36, 49, 64, 81]\n",
      "[[0, 0, 0, 0], [0, 0, 0, 0], [0, 0, 0, 0]]\n"
     ]
    }
   ],
   "source": [
    "#리스트 컴프리헨션\n",
    "#list 초기화에 자주 사용된다.\n",
    "\n",
    "#20까지의 숫자중 홀수\n",
    "array = [i for i in range(20) if i % 2 == 1]\n",
    "\n",
    "#위에식을 풀어쓰면\n",
    "array2 = []\n",
    "for i in range(20):\n",
    "    if i % 2 == 1:\n",
    "        array2.append(i)\n",
    "\n",
    "print(array)\n",
    "print(array2)\n",
    "\n",
    "#1부터 9까지의 제곱 list\n",
    "array3 = [i * i  for i in range(1,10)]\n",
    "print(array3)\n",
    "\n",
    "\n",
    "#2차원 배열을 초기화할때 매우 효율적으로 사용됨\n",
    "\n",
    "# N x M 의 2차원 배열 초기화\n",
    "n = 3\n",
    "m = 4\n",
    "array4 = [[0] * m for _ in range(n)]\n",
    "\n",
    "print(array4)"
   ]
  },
  {
   "cell_type": "code",
   "execution_count": 17,
   "metadata": {},
   "outputs": [
    {
     "name": "stdout",
     "output_type": "stream",
     "text": [
      "[1, 2, 4]\n"
     ]
    }
   ],
   "source": [
    "#파이선은 list remove all 을 제공하지않는다.\n",
    "\n",
    "a = [1,2,3,4,5,5,5]\n",
    "remove_set = [3,5]\n",
    "\n",
    "result = [i for i in a if i not in remove_set]\n",
    "\n",
    "print(result)"
   ]
  },
  {
   "cell_type": "code",
   "execution_count": 19,
   "metadata": {},
   "outputs": [
    {
     "name": "stdout",
     "output_type": "stream",
     "text": [
      "3\n"
     ]
    },
    {
     "ename": "TypeError",
     "evalue": "'tuple' object does not support item assignment",
     "output_type": "error",
     "traceback": [
      "\u001b[0;31m---------------------------------------------------------------------------\u001b[0m",
      "\u001b[0;31mTypeError\u001b[0m                                 Traceback (most recent call last)",
      "\u001b[0;32m<ipython-input-19-ec065d6b0aaa>\u001b[0m in \u001b[0;36m<module>\u001b[0;34m\u001b[0m\n\u001b[1;32m      7\u001b[0m \u001b[0mprint\u001b[0m\u001b[0;34m(\u001b[0m\u001b[0ma\u001b[0m\u001b[0;34m[\u001b[0m\u001b[0;36m2\u001b[0m\u001b[0;34m]\u001b[0m\u001b[0;34m)\u001b[0m\u001b[0;34m\u001b[0m\u001b[0;34m\u001b[0m\u001b[0m\n\u001b[1;32m      8\u001b[0m \u001b[0;34m\u001b[0m\u001b[0m\n\u001b[0;32m----> 9\u001b[0;31m \u001b[0ma\u001b[0m\u001b[0;34m[\u001b[0m\u001b[0;36m2\u001b[0m\u001b[0;34m]\u001b[0m \u001b[0;34m=\u001b[0m \u001b[0;36m111\u001b[0m\u001b[0;34m\u001b[0m\u001b[0;34m\u001b[0m\u001b[0m\n\u001b[0m",
      "\u001b[0;31mTypeError\u001b[0m: 'tuple' object does not support item assignment"
     ]
    }
   ],
   "source": [
    "#튜플 자료형\n",
    "#1. 튜플 자료형은 한번 선언된 값을 변경 할 수 없다.\n",
    "#2. 소괄호 () 사용\n",
    "\n",
    "a = (1,2,3,4)\n",
    "\n",
    "print(a[2])\n",
    "\n",
    "a[2] = 111\n",
    "\n",
    "#주로 그래프 알고리즘에 사용..\n",
    "#우선 큐를 사용 -> 우선 큐의 값이 변경되면 안되기 때문..\n"
   ]
  },
  {
   "cell_type": "code",
   "execution_count": 28,
   "metadata": {},
   "outputs": [
    {
     "name": "stdout",
     "output_type": "stream",
     "text": [
      "{1, 2, 3, 4, 5, 6, 7}\n",
      "{3, 4, 5}\n",
      "{1, 2}\n",
      "{1, 2, 3, 4}\n",
      "{1, 2, 3}\n",
      "{1, 2, 3, 5, 6}\n"
     ]
    }
   ],
   "source": [
    "#set \n",
    "#중복을 허용하지 않음\n",
    "#순서가 없다\n",
    "\n",
    "a = set([1,2,3,4,5])\n",
    "b = set([3,4,5,6,7])\n",
    "\n",
    "#합집합\n",
    "print(a | b)\n",
    "#교집합\n",
    "print(a & b)\n",
    "#차집합\n",
    "print(a - b)\n",
    "\n",
    "\n",
    "data = set([1,2,3])\n",
    "#add \n",
    "data.add(4)\n",
    "print(data)\n",
    "\n",
    "#remove\n",
    "data.remove(4)\n",
    "print(data)\n",
    "\n",
    "#update -> 여러개값\n",
    "data.update([5,6])\n",
    "print(data)"
   ]
  },
  {
   "cell_type": "code",
   "execution_count": 31,
   "metadata": {},
   "outputs": [
    {
     "name": "stdout",
     "output_type": "stream",
     "text": [
      "10\n",
      "10\n"
     ]
    }
   ],
   "source": [
    "#함수 및 람다식\n",
    "def add(a,b):\n",
    "    return a + b\n",
    "\n",
    "print(add(3, 7))\n",
    "\n",
    "#람다식\n",
    "print((lambda a,b : a + b)(3,7))"
   ]
  },
  {
   "cell_type": "code",
   "execution_count": 32,
   "metadata": {},
   "outputs": [
    {
     "name": "stdout",
     "output_type": "stream",
     "text": [
      "5\n",
      "5\n"
     ]
    }
   ],
   "source": [
    "#입출력\n",
    "n = int(input())\n",
    "print(n)"
   ]
  },
  {
   "cell_type": "code",
   "execution_count": 33,
   "metadata": {},
   "outputs": [
    {
     "name": "stdout",
     "output_type": "stream",
     "text": [
      "1 2 3 4 5\n",
      "data -  [1, 2, 3, 4, 5]\n"
     ]
    }
   ],
   "source": [
    "data = list(map(int, input().split()))\n",
    "\n",
    "print(\"data - \", data)"
   ]
  },
  {
   "cell_type": "code",
   "execution_count": 39,
   "metadata": {},
   "outputs": [
    {
     "name": "stdout",
     "output_type": "stream",
     "text": [
      "2 3 42\n",
      "2 3 42\n"
     ]
    }
   ],
   "source": [
    "n,m,k = map(int, input().split())\n",
    "\n",
    "print(n, m, k)\n"
   ]
  },
  {
   "cell_type": "code",
   "execution_count": 40,
   "metadata": {},
   "outputs": [
    {
     "name": "stdout",
     "output_type": "stream",
     "text": [
      "\n"
     ]
    }
   ],
   "source": [
    "#input은 동작속도가 느려 sys를 사용해야할때가 있다!\n",
    "import sys\n",
    "\n",
    "data = sys.stdin.readline().rstrip()\n",
    "\n",
    "print(data)\n",
    "\n",
    "#jupyter 에서는 stdin 이 제대로 구성되어 있지 않기 때문에 stdin.readline() 을 실행하면 입력을 받지 못하고 항상 빈 문자열이 반환\n"
   ]
  },
  {
   "cell_type": "markdown",
   "metadata": {},
   "source": [
    "# 내장함수\n",
    "### import 없이 사용\n",
    "### input() print() max() min() sum() eval() sorted() "
   ]
  },
  {
   "cell_type": "code",
   "execution_count": 41,
   "metadata": {},
   "outputs": [
    {
     "name": "stdout",
     "output_type": "stream",
     "text": [
      "15\n"
     ]
    }
   ],
   "source": [
    "result = sum([1,2,3,4,5])\n",
    "print(result)"
   ]
  },
  {
   "cell_type": "code",
   "execution_count": 42,
   "metadata": {},
   "outputs": [
    {
     "name": "stdout",
     "output_type": "stream",
     "text": [
      "1\n"
     ]
    }
   ],
   "source": [
    "result = min([1,2,3,4,5])\n",
    "print(result)"
   ]
  },
  {
   "cell_type": "code",
   "execution_count": 43,
   "metadata": {},
   "outputs": [
    {
     "name": "stdout",
     "output_type": "stream",
     "text": [
      "5\n"
     ]
    }
   ],
   "source": [
    "result = max([1,2,3,4,5])\n",
    "print(result)"
   ]
  },
  {
   "cell_type": "code",
   "execution_count": 44,
   "metadata": {},
   "outputs": [
    {
     "name": "stdout",
     "output_type": "stream",
     "text": [
      "22\n"
     ]
    }
   ],
   "source": [
    "#eval -> 문자열 수식을 계산해준다.\n",
    "result = eval(\"3 * 5 + 7\")\n",
    "print(result)"
   ]
  },
  {
   "cell_type": "code",
   "execution_count": 46,
   "metadata": {},
   "outputs": [
    {
     "name": "stdout",
     "output_type": "stream",
     "text": [
      "[1, 4, 5, 8, 9]\n",
      "[9, 8, 5, 4, 1]\n"
     ]
    }
   ],
   "source": [
    "result = sorted([9, 1, 8, 5, 4]) #오름차순\n",
    "print(result)\n",
    "\n",
    "result = sorted([9, 1, 8, 5, 4], reverse=True) # 내림차순\n",
    "print(result)"
   ]
  },
  {
   "cell_type": "code",
   "execution_count": 47,
   "metadata": {},
   "outputs": [
    {
     "name": "stdout",
     "output_type": "stream",
     "text": [
      "[('홍길동', 35), ('아무개', 50), ('이순신', 77)]\n"
     ]
    }
   ],
   "source": [
    "#특정 위치에서 사용\n",
    "result = sorted([('홍길동', 35), ('이순신', 77), ('아무개', 50)], key = lambda x:x[1])\n",
    "print(result)"
   ]
  },
  {
   "cell_type": "code",
   "execution_count": 49,
   "metadata": {},
   "outputs": [
    {
     "name": "stdout",
     "output_type": "stream",
     "text": [
      "[1, 4, 5, 8, 9]\n"
     ]
    }
   ],
   "source": [
    "#sort() 사용\n",
    "data = [9, 1, 8, 5, 4]\n",
    "data.sort()\n",
    "\n",
    "print(data)"
   ]
  },
  {
   "cell_type": "code",
   "execution_count": null,
   "metadata": {},
   "outputs": [],
   "source": []
  }
 ],
 "metadata": {
  "kernelspec": {
   "display_name": "Python 3",
   "language": "python",
   "name": "python3"
  },
  "language_info": {
   "codemirror_mode": {
    "name": "ipython",
    "version": 3
   },
   "file_extension": ".py",
   "mimetype": "text/x-python",
   "name": "python",
   "nbconvert_exporter": "python",
   "pygments_lexer": "ipython3",
   "version": "3.7.6"
  }
 },
 "nbformat": 4,
 "nbformat_minor": 4
}
