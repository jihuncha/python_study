{
 "cells": [
  {
   "cell_type": "markdown",
   "id": "basic-longer",
   "metadata": {},
   "source": [
    "# 바닥 전사\n",
    "\n",
    "가로 일이가 N / 세로 길이가 2인 타일이 있다.\n",
    "\n",
    "1x2 / 2x1 / 2x2 타일로 메꾸어야한다.\n",
    "\n",
    "2x3 의 타일은 메꾸는 수는 5가지\n",
    "\n",
    "2xn의 타일을 메꾸는 경우의 수 를 모두 구하시오.\n",
    "\n",
    "1<=N<=1000\n",
    "\n",
    "#### 출력 조건\n",
    "796796 으로 나눈 나머지를 출력해라 -> 결과값이굉장히커질수도잇기떄문\n",
    "\n",
    "\n",
    "\n",
    "### 입력 예시\n",
    "\n",
    "3\n",
    "\n",
    "### 출력 예시\n",
    "\n",
    "5\n"
   ]
  },
  {
   "cell_type": "code",
   "execution_count": 10,
   "id": "phantom-tackle",
   "metadata": {},
   "outputs": [
    {
     "name": "stdout",
     "output_type": "stream",
     "text": [
      "3\n",
      "5\n"
     ]
    }
   ],
   "source": [
    "n = int(input())\n",
    "\n",
    "d = [0] * 1001\n",
    "\n",
    "d[1] = 1\n",
    "d[2] = 3\n",
    "\n",
    "for i in range(3, n + 1):\n",
    "    d[i] = (d[i - 1] + 2 * d[i - 2]) % 796796\n",
    "    \n",
    "print(d[n])"
   ]
  },
  {
   "cell_type": "markdown",
   "id": "minus-stocks",
   "metadata": {},
   "source": [
    "안녕하세요, @backtony 님!\n",
    "\n",
    "이번에도 좋은 질문 감사합니다.\n",
    "\n",
    "말씀해주신 부분 또한 제가 교재에서 명확히 명시했어야 했는데, 설명이 부족했던 것 같습니다.\n",
    "\n",
    "책에서는 다음과 같이 명시되어 있습니다.\n",
    "\n",
    "① 왼쪽부터 i - 1까지 길이가 덮개로 이미 채워져 있으면 2 X 1의 덮개를 채우는 하나의 경우밖에 존재하지 않는다.\n",
    "\n",
    "② 왼쪽부터 i - 2까지 길이가 덮개로 이미 채워져 있으면 1 X 2 덮개 2개를 넣는 경우, 혹은 2 X 2의 덮개 하나를 넣는 경우로 2가지 경우가 존재한다.\n",
    "\n",
    "여기에서 말씀하신 대로 ②에서 2 X 1 덮개 2개를 넣는 경우를 고려하지 않는 이유는 ①에서 이미 해당 경우가 계산되었기(고려되었기) 때문입니다.\n",
    "\n",
    "결과적으로 책에 적혀 있는 점화식을 통해, 중복을 제외한 고유한 경우들만 고려한 최적의 해를 도출하게 됩니다.\n",
    "\n",
    "명쾌하지 못한 설명 때문에 어려움을 느끼신 것에 대해 죄송한 마음이 드네요.\n",
    "나동빈 드림"
   ]
  },
  {
   "cell_type": "code",
   "execution_count": null,
   "id": "designing-homeless",
   "metadata": {},
   "outputs": [],
   "source": []
  }
 ],
 "metadata": {
  "kernelspec": {
   "display_name": "Python 3",
   "language": "python",
   "name": "python3"
  },
  "language_info": {
   "codemirror_mode": {
    "name": "ipython",
    "version": 3
   },
   "file_extension": ".py",
   "mimetype": "text/x-python",
   "name": "python",
   "nbconvert_exporter": "python",
   "pygments_lexer": "ipython3",
   "version": "3.8.2"
  }
 },
 "nbformat": 4,
 "nbformat_minor": 5
}
